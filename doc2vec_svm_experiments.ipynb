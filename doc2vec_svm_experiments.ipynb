{
 "cells": [
  {
   "cell_type": "code",
   "execution_count": null,
   "metadata": {},
   "outputs": [],
   "source": [
    "%load_ext autoreload\n",
    "%autoreload 2\n",
    "\n",
    "\n",
    "import numpy as np\n",
    "import math\n",
    "from sklearn.model_selection import train_test_split\n",
    "from multinomial_naive_bayes import MultinomialNaiveBayes\n",
    "from data_processing import preprocess_data, get_dictionary, featurize_data\n",
    "from statistical_tests import sign_test, permutation_test\n",
    "from cross_validation import cross_validation, evaluate_classifier\n",
    "from sklearn.svm import SVC\n",
    "from gensim.models.doc2vec import Doc2Vec\n",
    "import pickle"
   ]
  },
  {
   "cell_type": "markdown",
   "metadata": {},
   "source": [
    "## Read Data"
   ]
  },
  {
   "cell_type": "code",
   "execution_count": null,
   "metadata": {},
   "outputs": [],
   "source": [
    "data_path = 'datasets/data-tagged/'\n",
    "classes = [0, 1]"
   ]
  },
  {
   "cell_type": "code",
   "execution_count": null,
   "metadata": {},
   "outputs": [],
   "source": [
    "X_pos, y_pos = preprocess_data(data_path, 'POS')\n",
    "X_neg, y_neg = preprocess_data(data_path, 'NEG')"
   ]
  },
  {
   "cell_type": "markdown",
   "metadata": {},
   "source": [
    "## Model Selection"
   ]
  },
  {
   "cell_type": "code",
   "execution_count": null,
   "metadata": {},
   "outputs": [],
   "source": [
    "X = np.array(X_pos + X_neg)\n",
    "y = np.array(y_pos + y_neg)"
   ]
  },
  {
   "cell_type": "code",
   "execution_count": null,
   "metadata": {},
   "outputs": [],
   "source": [
    "k = 10\n",
    "idxs = np.array(range(len(y)))\n",
    "    \n",
    "folds_idxs = [[] for _ in range(k)]\n",
    "for idx in idxs:\n",
    "    fold = idx % k\n",
    "    folds_idxs[fold].append(idx)"
   ]
  },
  {
   "cell_type": "code",
   "execution_count": null,
   "metadata": {},
   "outputs": [],
   "source": [
    "val_fold = 0\n",
    "val_idxs = folds_idxs[val_fold]\n",
    "train_idxs = list(set(np.concatenate(folds_idxs)) - set(val_idxs))\n",
    "\n",
    "X_train = X[train_idxs]\n",
    "y_train = y[train_idxs]\n",
    "\n",
    "X_val = X[val_idxs]\n",
    "y_val = y[val_idxs]"
   ]
  },
  {
   "cell_type": "code",
   "execution_count": null,
   "metadata": {},
   "outputs": [],
   "source": [
    "model = SVC(kernel='linear', shrinking=False)"
   ]
  },
  {
   "cell_type": "markdown",
   "metadata": {},
   "source": [
    "### Models"
   ]
  },
  {
   "cell_type": "code",
   "execution_count": null,
   "metadata": {
    "scrolled": true
   },
   "outputs": [],
   "source": [
    "%%time\n",
    "evaluate_classifier(model, X_train, y_train, X_val, y_val, doc2vec_file=\"d2v_5vecsize_1mincount_1dm_10epochs.model\")"
   ]
  },
  {
   "cell_type": "code",
   "execution_count": null,
   "metadata": {
    "scrolled": true
   },
   "outputs": [],
   "source": [
    "%%time\n",
    "evaluate_classifier(model, X_train, y_train, X_val, y_val, doc2vec_file=\"d2v_50vecsize_1mincount_1dm_10epochs.model\")"
   ]
  },
  {
   "cell_type": "code",
   "execution_count": null,
   "metadata": {},
   "outputs": [],
   "source": [
    "%%time\n",
    "evaluate_classifier(model, X_train, y_train, X_val, y_val, doc2vec_file=\"d2v_100vecsize_1mincount_1dm_10epochs.model\")"
   ]
  },
  {
   "cell_type": "code",
   "execution_count": null,
   "metadata": {},
   "outputs": [],
   "source": [
    "%%time\n",
    "evaluate_classifier(model, X_train, y_train, X_val, y_val, doc2vec_file=\"d2v_200vecsize_1mincount_1dm_10epochs.model\")"
   ]
  },
  {
   "cell_type": "code",
   "execution_count": null,
   "metadata": {},
   "outputs": [],
   "source": [
    "%%time\n",
    "evaluate_classifier(model, X_train, y_train, X_val, y_val, doc2vec_file=\"d2v_100vecsize_3mincount_1dm_10epochs.model\")"
   ]
  },
  {
   "cell_type": "code",
   "execution_count": null,
   "metadata": {},
   "outputs": [],
   "source": [
    "%%time\n",
    "evaluate_classifier(model, X_train, y_train, X_val, y_val, doc2vec_file=\"d2v_200vecsize_3mincount_1dm_10epochs.model\")"
   ]
  },
  {
   "cell_type": "code",
   "execution_count": null,
   "metadata": {},
   "outputs": [],
   "source": [
    "%%time\n",
    "evaluate_classifier(model, X_train, y_train, X_val, y_val, doc2vec_file=\"d2v_100vecsize_1mincount_0dm_10epochs.model\")"
   ]
  },
  {
   "cell_type": "code",
   "execution_count": null,
   "metadata": {},
   "outputs": [],
   "source": [
    "%%time\n",
    "evaluate_classifier(model, X_train, y_train, X_val, y_val, doc2vec_file=\"d2v_200vecsize_1mincount_0dm_10epochs.model\")"
   ]
  },
  {
   "cell_type": "code",
   "execution_count": null,
   "metadata": {},
   "outputs": [],
   "source": [
    "%%time\n",
    "evaluate_classifier(model, X_train, y_train, X_val, y_val, doc2vec_file=\"d2v_100vecsize_3mincount_0dm_10epochs.model\")"
   ]
  },
  {
   "cell_type": "code",
   "execution_count": null,
   "metadata": {},
   "outputs": [],
   "source": [
    "%%time\n",
    "evaluate_classifier(model, X_train, y_train, X_val, y_val, doc2vec_file=\"d2v_100vecsize_1mincount_0dm_10epochs.model\")"
   ]
  },
  {
   "cell_type": "code",
   "execution_count": null,
   "metadata": {},
   "outputs": [],
   "source": [
    "%%time\n",
    "evaluate_classifier(model, X_train, y_train, X_val, y_val, doc2vec_file=\"d2v_200vecsize_3mincount_0dm_10epochs.model\")"
   ]
  },
  {
   "cell_type": "markdown",
   "metadata": {},
   "source": [
    "## Cross Validation"
   ]
  },
  {
   "cell_type": "code",
   "execution_count": null,
   "metadata": {},
   "outputs": [],
   "source": [
    "best_doc2vec_file = \"d2v_200vecsize_1mincount_0dm_10epochs.model\"\n",
    "doc2vec = Doc2Vec.load('models/doc2vec/' + best_doc2vec_file)"
   ]
  },
  {
   "cell_type": "code",
   "execution_count": null,
   "metadata": {},
   "outputs": [],
   "source": [
    "X_feat = np.array([doc2vec.infer_vector(x) for x in X_train])"
   ]
  },
  {
   "cell_type": "code",
   "execution_count": null,
   "metadata": {},
   "outputs": [],
   "source": [
    "model = SVC(kernel='linear', shrinking=False)"
   ]
  },
  {
   "cell_type": "code",
   "execution_count": null,
   "metadata": {},
   "outputs": [],
   "source": [
    "cross_validation(model, X_feat, y_train, featurized=True)"
   ]
  },
  {
   "cell_type": "markdown",
   "metadata": {},
   "source": [
    "# Train Best Model"
   ]
  },
  {
   "cell_type": "code",
   "execution_count": null,
   "metadata": {},
   "outputs": [],
   "source": [
    "best_doc2vec_file = \"d2v_200vecsize_1mincount_0dm_10epochs.model\"\n",
    "doc2vec = Doc2Vec.load('models/doc2vec/' + best_doc2vec_file)\n",
    "X_feat = np.array([doc2vec.infer_vector(x) for x in X])"
   ]
  },
  {
   "cell_type": "code",
   "execution_count": null,
   "metadata": {},
   "outputs": [],
   "source": [
    "model = SVC(kernel='linear', shrinking=False)\n",
    "model.fit(X_feat, y)"
   ]
  },
  {
   "cell_type": "code",
   "execution_count": null,
   "metadata": {},
   "outputs": [],
   "source": [
    "pickle.dump(model, open('models/best_doc2vec+svm_model.dump', 'wb'))"
   ]
  },
  {
   "cell_type": "markdown",
   "metadata": {},
   "source": [
    "## Statistical Test"
   ]
  },
  {
   "cell_type": "code",
   "execution_count": null,
   "metadata": {},
   "outputs": [],
   "source": [
    "best_doc2vec_file = \"d2v_200vecsize_1mincount_0dm_10epochs.model\"\n",
    "doc2vec = Doc2Vec.load('doc2vec/' + best_doc2vec_file)\n",
    "X_feat = np.array([doc2vec.infer_vector(x) for x in X_train])"
   ]
  },
  {
   "cell_type": "code",
   "execution_count": null,
   "metadata": {},
   "outputs": [],
   "source": [
    "model = SVC(kernel='linear', shrinking=False)\n",
    "y1_pred, _ = cross_validation(model, X_feat, y_train, featurized=True)"
   ]
  },
  {
   "cell_type": "code",
   "execution_count": null,
   "metadata": {},
   "outputs": [],
   "source": [
    "other_doc2vec_file = \"d2v_100vecsize_1mincount_0dm_10epochs.model\"\n",
    "other_doc2vec = Doc2Vec.load('doc2vec/' + other_doc2vec_file)\n",
    "X_feat = np.array([other_doc2vec.infer_vector(x) for x in X_train])"
   ]
  },
  {
   "cell_type": "code",
   "execution_count": null,
   "metadata": {},
   "outputs": [],
   "source": [
    "model = SVC(kernel='linear', shrinking=False)\n",
    "y2_pred, y_true = cross_validation(model, X_feat, y_train, featurized=True)"
   ]
  },
  {
   "cell_type": "code",
   "execution_count": null,
   "metadata": {},
   "outputs": [],
   "source": [
    "permutation_test(y1_pred, y2_pred, y_true)"
   ]
  }
 ],
 "metadata": {
  "kernelspec": {
   "display_name": "l90",
   "language": "python",
   "name": "le90"
  },
  "language_info": {
   "codemirror_mode": {
    "name": "ipython",
    "version": 3
   },
   "file_extension": ".py",
   "mimetype": "text/x-python",
   "name": "python",
   "nbconvert_exporter": "python",
   "pygments_lexer": "ipython3",
   "version": "3.6.4"
  }
 },
 "nbformat": 4,
 "nbformat_minor": 2
}
