{
 "cells": [
  {
   "cell_type": "code",
   "execution_count": null,
   "metadata": {},
   "outputs": [],
   "source": [
    "%load_ext autoreload\n",
    "%autoreload 2\n",
    "\n",
    "import numpy as np\n",
    "import math\n",
    "from sklearn.model_selection import train_test_split\n",
    "from multinomial_naive_bayes import MultinomialNaiveBayes\n",
    "from data_processing import preprocess_data, get_dictionary, featurize_data\n",
    "from statistical_tests import sign_test, permutation_test\n",
    "from cross_validation import cross_validation, evaluate_classifier\n",
    "from sklearn.svm import SVC"
   ]
  },
  {
   "cell_type": "markdown",
   "metadata": {},
   "source": [
    "## Read Data"
   ]
  },
  {
   "cell_type": "code",
   "execution_count": null,
   "metadata": {},
   "outputs": [],
   "source": [
    "data_path = 'datasets/data-tagged/'\n",
    "classes = [0, 1]"
   ]
  },
  {
   "cell_type": "code",
   "execution_count": null,
   "metadata": {},
   "outputs": [],
   "source": [
    "X_pos, y_pos = preprocess_data(data_path, 'POS')\n",
    "X_neg, y_neg = preprocess_data(data_path, 'NEG')"
   ]
  },
  {
   "cell_type": "markdown",
   "metadata": {},
   "source": [
    "## Held out Test Set"
   ]
  },
  {
   "cell_type": "code",
   "execution_count": null,
   "metadata": {},
   "outputs": [],
   "source": [
    "X = np.array(X_pos + X_neg)\n",
    "y = np.array(y_pos + y_neg)"
   ]
  },
  {
   "cell_type": "code",
   "execution_count": null,
   "metadata": {},
   "outputs": [],
   "source": [
    "k = 10\n",
    "idxs = np.array(range(len(y)))\n",
    "    \n",
    "folds_idxs = [[] for _ in range(k)]\n",
    "for idx in idxs:\n",
    "    fold = idx % k\n",
    "    folds_idxs[fold].append(idx)"
   ]
  },
  {
   "cell_type": "code",
   "execution_count": null,
   "metadata": {},
   "outputs": [],
   "source": [
    "val_fold = 0\n",
    "val_idxs = folds_idxs[val_fold]\n",
    "train_idxs = list(set(np.concatenate(folds_idxs)) - set(val_idxs))\n",
    "\n",
    "X_train = X[train_idxs]\n",
    "y_train = y[train_idxs]\n",
    "\n",
    "X_val = X[val_idxs]\n",
    "y_val = y[val_idxs]"
   ]
  },
  {
   "cell_type": "markdown",
   "metadata": {},
   "source": [
    "### Models"
   ]
  },
  {
   "cell_type": "code",
   "execution_count": null,
   "metadata": {},
   "outputs": [],
   "source": [
    "model = SVC(kernel='linear', shrinking=False)"
   ]
  },
  {
   "cell_type": "code",
   "execution_count": null,
   "metadata": {},
   "outputs": [],
   "source": [
    "%%time\n",
    "y1_pred = evaluate_classifier(model, X_train, y_train, X_val, y_val, unigram=True, bigram=False)\n"
   ]
  },
  {
   "cell_type": "code",
   "execution_count": null,
   "metadata": {},
   "outputs": [],
   "source": [
    "%%time\n",
    "y2_pred = evaluate_classifier(model, X_train, y_train, X_val, y_val, unigram=False, bigram=True)\n"
   ]
  },
  {
   "cell_type": "code",
   "execution_count": null,
   "metadata": {},
   "outputs": [],
   "source": [
    "%%time\n",
    "y3_pred = evaluate_classifier(model, X_train, y_train, X_val, y_val, unigram=True, bigram=True)\n"
   ]
  },
  {
   "cell_type": "markdown",
   "metadata": {},
   "source": [
    "## Cross Validation"
   ]
  },
  {
   "cell_type": "code",
   "execution_count": null,
   "metadata": {},
   "outputs": [],
   "source": [
    "def run_full_cv():\n",
    "    unigrams = [True, False]\n",
    "    bigrams = [False, True]\n",
    "    unigram_cutoff = 4\n",
    "    bigram_cutoff = 7\n",
    "    \n",
    "    X = np.array(X_pos + X_neg)\n",
    "    y = np.array(y_pos + y_neg)\n",
    "    \n",
    "    for unigram in unigrams:\n",
    "        for bigram in bigrams:\n",
    "            if not unigram and not bigram:\n",
    "                continue\n",
    "            print(\"unigram: {}, bigram: {}, unigram_cutoff: {}, bigram_cutoff: {}\".format(unigram, bigram, unigram_cutoff, bigram_cutoff))\n",
    "            model = SVC(kernel='linear', shrinking=False)\n",
    "            cross_validation(model, X, y, unigram=unigram, bigram=bigram, unigram_cutoff=unigram_cutoff, bigram_cutoff=bigram_cutoff)"
   ]
  },
  {
   "cell_type": "markdown",
   "metadata": {},
   "source": [
    "## Monte Carlo Permutation Test"
   ]
  },
  {
   "cell_type": "code",
   "execution_count": null,
   "metadata": {},
   "outputs": [],
   "source": [
    "permutation_test(y1_pred, y2_pred, y_val)"
   ]
  },
  {
   "cell_type": "code",
   "execution_count": null,
   "metadata": {},
   "outputs": [],
   "source": [
    "permutation_test(y1_pred, y3_pred, y_val)"
   ]
  },
  {
   "cell_type": "code",
   "execution_count": null,
   "metadata": {},
   "outputs": [],
   "source": []
  }
 ],
 "metadata": {
  "kernelspec": {
   "display_name": "l90",
   "language": "python",
   "name": "le90"
  },
  "language_info": {
   "codemirror_mode": {
    "name": "ipython",
    "version": 3
   },
   "file_extension": ".py",
   "mimetype": "text/x-python",
   "name": "python",
   "nbconvert_exporter": "python",
   "pygments_lexer": "ipython3",
   "version": "3.6.4"
  }
 },
 "nbformat": 4,
 "nbformat_minor": 2
}
